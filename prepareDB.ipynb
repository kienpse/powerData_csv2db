{
 "cells": [
  {
   "cell_type": "markdown",
   "id": "345373b0",
   "metadata": {},
   "source": [
    "# Convert CSV to SQLite Database\n",
    "This notebook will read the CSV file `PUBLIC_ARCHIVE#DISPATCH_UNIT_SCADA#FILE01#202507010000.CSV` and save its contents into a SQLite database file in the project folder.\n",
    "(CSV file download link https://nemweb.com.au/Data_Archive/Wholesale_Electricity/MMSDM/2025/MMSDM_2025_07/MMSDM_Historical_Data_SQLLoader/DATA/PUBLIC_ARCHIVE%23DISPATCH_UNIT_SCADA%23FILE01%23202507010000.zip)\n",
    "The CSV file is raw power data of plants in NEM for every dispatch horizon of 5 mins."
   ]
  },
  {
   "cell_type": "code",
   "execution_count": null,
   "id": "e6845784",
   "metadata": {},
   "outputs": [
    {
     "name": "stdout",
     "output_type": "stream",
     "text": [
      "CSV data has been saved to dispatch_unit_scada.db\n"
     ]
    }
   ],
   "source": [
    "import pandas as pd\n",
    "import sqlite3\n",
    "import os\n",
    "\n",
    "# Define file paths\n",
    "csv_file = 'PUBLIC_ARCHIVE#DISPATCH_UNIT_SCADA#FILE01#202507010000.CSV'\n",
    "db_file = 'dispatch_unit_scada.db'\n",
    "\n",
    "# Read CSV file, skip the first row (notes), use the second row as header\n",
    "df = pd.read_csv(csv_file, header=1)\n",
    "\n",
    "# Save to SQLite database\n",
    "conn = sqlite3.connect(db_file)\n",
    "df.to_sql('dispatch_unit_scada', conn, if_exists='replace', index=False)\n",
    "conn.close()\n",
    "\n",
    "print(f\"CSV data has been saved to {db_file}\")"
   ]
  },
  {
   "cell_type": "code",
   "execution_count": null,
   "id": "6a5434dd",
   "metadata": {},
   "outputs": [
    {
     "name": "stdout",
     "output_type": "stream",
     "text": [
      "First 5 rows:\n",
      "   I  DISPATCH  UNIT_SCADA    1       SETTLEMENTDATE      DUID  SCADAVALUE  \\\n",
      "0  D  DISPATCH  UNIT_SCADA  1.0  2025/07/01 00:05:00    ADPBA1    -0.00100   \n",
      "1  D  DISPATCH  UNIT_SCADA  1.0  2025/07/01 00:05:00    ADPPV1     0.00000   \n",
      "2  D  DISPATCH  UNIT_SCADA  1.0  2025/07/01 00:05:00    AGLHAL    50.01986   \n",
      "3  D  DISPATCH  UNIT_SCADA  1.0  2025/07/01 00:05:00    AGLSOM    60.02500   \n",
      "4  D  DISPATCH  UNIT_SCADA  1.0  2025/07/01 00:05:00  ALDGASF1     0.00000   \n",
      "\n",
      "           LASTCHANGED  \n",
      "0  2025/07/01 00:00:12  \n",
      "1  2025/07/01 00:00:12  \n",
      "2  2025/07/01 00:00:12  \n",
      "3  2025/07/01 00:00:12  \n",
      "4  2025/07/01 00:00:12  \n",
      "\n",
      "Last 5 rows:\n",
      "   I       DISPATCH  UNIT_SCADA    1       SETTLEMENTDATE   DUID  SCADAVALUE  \\\n",
      "0  D       DISPATCH  UNIT_SCADA  1.0  2025/08/01 00:00:00  YWPS4   392.62500   \n",
      "1  D       DISPATCH  UNIT_SCADA  1.0  2025/08/01 00:00:00  YWPS1   349.75000   \n",
      "2  D       DISPATCH  UNIT_SCADA  1.0  2025/08/01 00:00:00  YWPS2   364.00000   \n",
      "3  D       DISPATCH  UNIT_SCADA  1.0  2025/08/01 00:00:00  YWPS3   383.90625   \n",
      "4  C  END OF REPORT     4208704  NaN                 None   None         NaN   \n",
      "\n",
      "           LASTCHANGED  \n",
      "0  2025/07/31 23:55:15  \n",
      "1  2025/07/31 23:55:15  \n",
      "2  2025/07/31 23:55:15  \n",
      "3  2025/07/31 23:55:15  \n",
      "4                 None  \n"
     ]
    }
   ],
   "source": [
    "import sqlite3\n",
    "import pandas as pd\n",
    "\n",
    "# Connect to the database\n",
    "conn = sqlite3.connect('dispatch_unit_scada.db')\n",
    "\n",
    "# Preview first 5 rows\n",
    "df_head = pd.read_sql_query('SELECT * FROM dispatch_unit_scada LIMIT 5', conn)\n",
    "print('First 5 rows:')\n",
    "print(df_head)\n",
    "\n",
    "# Get total row count\n",
    "row_count = pd.read_sql_query('SELECT COUNT(*) as count FROM dispatch_unit_scada', conn)['count'][0]\n",
    "\n",
    "# Preview last 5 rows\n",
    "df_tail = pd.read_sql_query(f'SELECT * FROM dispatch_unit_scada LIMIT 5 OFFSET {row_count - 5}', conn)\n",
    "print('\\nLast 5 rows:')\n",
    "print(df_tail)\n"
   ]
  },
  {
   "cell_type": "code",
   "execution_count": null,
   "id": "a6d31398",
   "metadata": {},
   "outputs": [
    {
     "name": "stdout",
     "output_type": "stream",
     "text": [
      "Silver database created: dispatch_unit_scada_silver.db\n"
     ]
    }
   ],
   "source": [
    "# Read only the required columns\n",
    "query = 'SELECT SETTLEMENTDATE, DUID, SCADAVALUE FROM dispatch_unit_scada'\n",
    "df_filtered = pd.read_sql_query(query, conn)\n",
    "conn.close()\n",
    "\n",
    "# Save to new filtered database\n",
    "conn_filtered = sqlite3.connect('dispatch_unit_scada_filtered.db')\n",
    "df_filtered.to_sql('dispatch_unit_scada_filtered', conn_filtered, if_exists='replace', index=False)\n",
    "conn_filtered.close()\n",
    "\n",
    "print('Filtered database created: dispatch_unit_scada_filtered.db')"
   ]
  },
  {
   "cell_type": "code",
   "execution_count": null,
   "id": "2eed9790",
   "metadata": {},
   "outputs": [],
   "source": []
  }
 ],
 "metadata": {
  "kernelspec": {
   "display_name": "Python 3",
   "language": "python",
   "name": "python3"
  },
  "language_info": {
   "codemirror_mode": {
    "name": "ipython",
    "version": 3
   },
   "file_extension": ".py",
   "mimetype": "text/x-python",
   "name": "python",
   "nbconvert_exporter": "python",
   "pygments_lexer": "ipython3",
   "version": "3.13.1"
  }
 },
 "nbformat": 4,
 "nbformat_minor": 5
}

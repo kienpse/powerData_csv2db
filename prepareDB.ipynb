{
 "cells": [
  {
   "cell_type": "markdown",
   "id": "345373b0",
   "metadata": {},
   "source": [
    "# Convert CSV to Parquet\n",
    "This notebook reads the CSV file `PUBLIC_ARCHIVE#DISPATCH_UNIT_SCADA#FILE01#202507010000.CSV` and saves its contents into a Parquet file in the project folder.\n",
    "(CSV file download link: https://nemweb.com.au/Data_Archive/Wholesale_Electricity/MMSDM/2025/MMSDM_2025_07/MMSDM_Historical_Data_SQLLoader/DATA/PUBLIC_ARCHIVE%23DISPATCH_UNIT_SCADA%23FILE01%23202507010000.zip)\n",
    "The CSV file contains raw power data of plants in the NEM for every 5-minute dispatch interval.\n",
    "The workflow now uses Parquet format for efficient storage and analysis."
   ]
  },
  {
   "cell_type": "code",
   "execution_count": 20,
   "id": "e6845784",
   "metadata": {},
   "outputs": [
    {
     "name": "stdout",
     "output_type": "stream",
     "text": [
      "Reading CSV: PUBLIC_ARCHIVE#DISPATCH_UNIT_SCADA#FILE01#202507010000.CSV (header=1)\n",
      "size of DataFrame: (4208702, 8)\n",
      "size of DataFrame: (4208702, 8)\n"
     ]
    }
   ],
   "source": [
    "import pandas as pd\n",
    "\n",
    "# Define file paths\n",
    "csv_file = 'PUBLIC_ARCHIVE#DISPATCH_UNIT_SCADA#FILE01#202507010000.CSV'\n",
    "parquet_file = 'dispatch_unit_scada.parquet'\n",
    "\n",
    "# Read CSV file: skip first (note) row, use second row as header\n",
    "print(f'Reading CSV: {csv_file} (header=1)')\n",
    "df = pd.read_csv(csv_file, header=1, low_memory=False)\n",
    "\n",
    "# Print DataFrame shape only once\n",
    "print('size of DataFrame:', df.shape)"
   ]
  },
  {
   "cell_type": "code",
   "execution_count": 21,
   "id": "fa9bc18c",
   "metadata": {},
   "outputs": [
    {
     "name": "stdout",
     "output_type": "stream",
     "text": [
      "Saved to Parquet: dispatch_unit_scada.parquet\n"
     ]
    }
   ],
   "source": [
    "# Save DataFrame to Parquet\n",
    "df.to_parquet(parquet_file, index=False, engine='pyarrow', compression='snappy')\n",
    "print(f'Saved to Parquet: {parquet_file}')"
   ]
  }
 ],
 "metadata": {
  "kernelspec": {
   "display_name": "Python 3",
   "language": "python",
   "name": "python3"
  },
  "language_info": {
   "codemirror_mode": {
    "name": "ipython",
    "version": 3
   },
   "file_extension": ".py",
   "mimetype": "text/x-python",
   "name": "python",
   "nbconvert_exporter": "python",
   "pygments_lexer": "ipython3",
   "version": "3.13.1"
  }
 },
 "nbformat": 4,
 "nbformat_minor": 5
}
